{
  "nbformat": 4,
  "nbformat_minor": 0,
  "metadata": {
    "colab": {
      "provenance": []
    },
    "kernelspec": {
      "name": "python3",
      "display_name": "Python 3"
    },
    "language_info": {
      "name": "python"
    }
  },
  "cells": [
    {
      "cell_type": "code",
      "execution_count": 1,
      "metadata": {
        "colab": {
          "base_uri": "https://localhost:8080/"
        },
        "id": "gV1v4vY2rVon",
        "outputId": "dc96508c-c45d-4a61-def1-e131e80d0d75"
      },
      "outputs": [
        {
          "output_type": "stream",
          "name": "stdout",
          "text": [
            "Requirement already satisfied: scikit-learn in /usr/local/lib/python3.12/dist-packages (1.6.1)\n",
            "Requirement already satisfied: numpy>=1.19.5 in /usr/local/lib/python3.12/dist-packages (from scikit-learn) (2.0.2)\n",
            "Requirement already satisfied: scipy>=1.6.0 in /usr/local/lib/python3.12/dist-packages (from scikit-learn) (1.16.1)\n",
            "Requirement already satisfied: joblib>=1.2.0 in /usr/local/lib/python3.12/dist-packages (from scikit-learn) (1.5.2)\n",
            "Requirement already satisfied: threadpoolctl>=3.1.0 in /usr/local/lib/python3.12/dist-packages (from scikit-learn) (3.6.0)\n",
            "Original Dataset:\n",
            "1. I loved the movie, it was fantastic!\n",
            "2. The film was terrible and boring\n",
            "3. Amazing story and brilliant acting\n",
            "4. I did not like the movie, very disappointing\n",
            "\n",
            "Bag of Words Representation:\n",
            "   acting  amazing  and  boring  brilliant  did  disappointing  fantastic  \\\n",
            "0       0        0    0       0          0    0              0          1   \n",
            "1       0        0    1       1          0    0              0          0   \n",
            "2       1        1    1       0          1    0              0          0   \n",
            "3       0        0    0       0          0    1              1          0   \n",
            "\n",
            "   film  it  like  loved  movie  not  story  terrible  the  very  was  \n",
            "0     0   1     0      1      1    0      0         0    1     0    1  \n",
            "1     1   0     0      0      0    0      0         1    1     0    1  \n",
            "2     0   0     0      0      0    0      1         0    0     0    0  \n",
            "3     0   0     1      0      1    1      0         0    1     1    0  \n",
            "\n",
            "TF-IDF Representation:\n",
            "   acting  amazing   and  boring  brilliant   did  disappointing  fantastic  \\\n",
            "0    0.00     0.00  0.00    0.00       0.00  0.00           0.00       0.46   \n",
            "1    0.00     0.00  0.37    0.46       0.00  0.00           0.00       0.00   \n",
            "2    0.47     0.47  0.37    0.00       0.47  0.00           0.00       0.00   \n",
            "3    0.00     0.00  0.00    0.00       0.00  0.41           0.41       0.00   \n",
            "\n",
            "   film    it  like  loved  movie   not  story  terrible   the  very   was  \n",
            "0  0.00  0.46  0.00   0.46   0.37  0.00   0.00      0.00  0.30  0.00  0.37  \n",
            "1  0.46  0.00  0.00   0.00   0.00  0.00   0.00      0.46  0.30  0.00  0.37  \n",
            "2  0.00  0.00  0.00   0.00   0.00  0.00   0.47      0.00  0.00  0.00  0.00  \n",
            "3  0.00  0.00  0.41   0.00   0.32  0.41   0.00      0.00  0.26  0.41  0.00  \n"
          ]
        }
      ],
      "source": [
        "# CADL2: Feature Extraction with BoW & TF-IDF\n",
        "\n",
        "# Install sklearn\n",
        "!pip install scikit-learn\n",
        "\n",
        "from sklearn.feature_extraction.text import CountVectorizer, TfidfVectorizer\n",
        "import pandas as pd\n",
        "\n",
        "# Example dataset (movie reviews)\n",
        "docs = [\n",
        "    \"I loved the movie, it was fantastic!\",\n",
        "    \"The film was terrible and boring\",\n",
        "    \"Amazing story and brilliant acting\",\n",
        "    \"I did not like the movie, very disappointing\"\n",
        "]\n",
        "\n",
        "print(\"Original Dataset:\")\n",
        "for i, d in enumerate(docs, 1):\n",
        "    print(f\"{i}. {d}\")\n",
        "\n",
        "# --- 1. Bag of Words ---\n",
        "bow = CountVectorizer()\n",
        "X_bow = bow.fit_transform(docs)\n",
        "\n",
        "bow_df = pd.DataFrame(X_bow.toarray(), columns=bow.get_feature_names_out())\n",
        "print(\"\\nBag of Words Representation:\")\n",
        "print(bow_df)\n",
        "\n",
        "# --- 2. TF-IDF ---\n",
        "tfidf = TfidfVectorizer()\n",
        "X_tfidf = tfidf.fit_transform(docs)\n",
        "\n",
        "tfidf_df = pd.DataFrame(X_tfidf.toarray(), columns=tfidf.get_feature_names_out())\n",
        "print(\"\\nTF-IDF Representation:\")\n",
        "print(tfidf_df.round(2))  # round for clarity\n"
      ]
    }
  ]
}